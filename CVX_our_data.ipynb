{
 "cells": [
  {
   "cell_type": "code",
   "execution_count": 3,
   "metadata": {},
   "outputs": [],
   "source": [
    "#CVX\n",
    "\n",
    "import create_data_upd as OD\n",
    "import numpy as np\n",
    "from sklearn.linear_model import OrthogonalMatchingPursuit\n",
    "import matplotlib.pyplot as plt\n",
    "\n",
    "# Set random seed for reproducibility\n",
    "np.random.seed(42)\n",
    "\n",
    "# Define dimensions\n",
    "n_features = 4000   # Number of columns in A\n",
    "cs_ratio=0.25\n",
    "n_samples = cs_ratio*n_features  # Number of rows in A (measurements)\n",
    "k_sparse = 5  #precentage\n",
    "len_test = 1000\n",
    "rows = 400\n",
    "cols = 10\n",
    "sig1vt_supp=10\n",
    "zt_noise_sigma=0.01\n",
    "data = OD.Data(rows=rows, cols=cols, sig1vt_supp=sig1vt_supp, k_sparse=k_sparse,zt_noise_sigma=zt_noise_sigma)\n",
    "X_dataset_test, C_dataset_test, Z_dataset_test = data.create_Dataset(len_test)\n",
    "\n",
    "# Create a random measurement matrix A\n",
    "A = np.random.randn(int(n_samples), n_features)"
   ]
  },
  {
   "cell_type": "code",
   "execution_count": null,
   "metadata": {},
   "outputs": [],
   "source": [
    "import numpy as np\n",
    "import cvxpy as cp\n",
    "\n",
    "\n",
    "z_true = Z_dataset_test[0].flatten()\n",
    "z_true=(z_true-z_true.mean())/z_true.std()\n",
    "\n",
    "\n",
    "# Measurements\n",
    "y_z = A @ z_true\n",
    "\n",
    "# Define the variable\n",
    "z_est = cp.Variable(n_features)\n",
    "\n",
    "# Define the optimization problem\n",
    "objective = cp.Minimize(cp.norm1(z_est))\n",
    "constraints = [A @ z_est == y_z]\n",
    "prob = cp.Problem(objective, constraints)\n",
    "\n",
    "# Solve the problem\n",
    "result = prob.solve()\n",
    "\n",
    "# Output the results\n",
    "print(\"Status:\", prob.status)\n",
    "print(\"Optimal value:\", result)\n",
    "print(\"Number of non-zero coefficients in x_true:\", np.sum(z_true != 0))\n",
    "print(\"Number of non-zero coefficients in x_estimated:\", np.sum(np.abs(z_est.value) > 1e-4))\n",
    "\n",
    "# Compute recovery error\n",
    "recovery_error = np.linalg.norm(z_true - z_est.value) / np.linalg.norm(z_true)\n",
    "print(\"Relative recovery error:\", recovery_error)\n"
   ]
  }
 ],
 "metadata": {
  "kernelspec": {
   "display_name": "base",
   "language": "python",
   "name": "python3"
  },
  "language_info": {
   "codemirror_mode": {
    "name": "ipython",
    "version": 3
   },
   "file_extension": ".py",
   "mimetype": "text/x-python",
   "name": "python",
   "nbconvert_exporter": "python",
   "pygments_lexer": "ipython3",
   "version": "3.12.4"
  }
 },
 "nbformat": 4,
 "nbformat_minor": 2
}
